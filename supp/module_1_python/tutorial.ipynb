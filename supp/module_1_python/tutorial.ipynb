{
 "cells": [
  {
   "cell_type": "markdown",
   "metadata": {
    "id": "lIinjzXqKLuj"
   },
   "source": [
    "\n",
    " # **Introduction to PYTHON**\n",
    "This document provides a short tutorial to Python. \n",
    "\n",
    "### **1. Commands**\n",
    "\n",
    " Python is an interpreted language. Hence, you can use it as a calculator (I sometimes do!)"
   ]
  },
  {
   "cell_type": "code",
   "metadata": {
    "colab": {
     "base_uri": "https://localhost:8080/"
    },
    "id": "92Vo4WzlKgE6",
    "outputId": "f8e62e61-4dc3-487c-87c4-fa185b2d2091"
   },
   "source": "3 + 5",
   "outputs": [],
   "execution_count": null
  },
  {
   "cell_type": "markdown",
   "metadata": {
    "id": "6ceB1ttfKigy"
   },
   "source": [
    "### **2. Printing**\n",
    "\n",
    "Python's command line is a little like a standard shell.\n",
    "The symbol \"#\" is used to indicate a comment (for the remainder of the line). IMPORTANT: To manipulate matrices in python, we use numpy package."
   ]
  },
  {
   "cell_type": "code",
   "metadata": {
    "colab": {
     "base_uri": "https://localhost:8080/"
    },
    "id": "_ECJZ7_aK7BV",
    "outputId": "a26ac95b-3282-41da-a2fb-1ea8a52b2b7c"
   },
   "source": [
    "import numpy as np\n",
    "\n",
    "A = np.array([[1,2], [2,3]]);\n",
    "\n",
    "# ways to print A include:\n",
    "print(A)\n",
    "\n",
    "# Other ways\n",
    "print(A[0,0], A[0,1], A[1,0], A[1,1])\n",
    "\n",
    "# (note you have to specify how many numbers (%u's) you want to print and order matters).\n",
    "# Printing other things:\n",
    "\n",
    "s = 'friend'\n",
    "print('Hello',s)\n",
    "\n",
    "m = 5;\n",
    "print('See you in ',m,' minutes');\n",
    "print('See you in ', str(m),' minutes');\n",
    "\n",
    "# To get the type of a variable, which can be helpful when debugging:\n",
    "print(type(A))\n",
    "\n",
    "# or to see if it's Inf, NaN, etc.\n",
    "print(np.isinf(m))\n",
    "print(np.isnan(m))\n",
    "print(np.isnan(np.nan))\n"
   ],
   "outputs": [],
   "execution_count": null
  },
  {
   "cell_type": "markdown",
   "metadata": {
    "id": "txZ1q8BELZMx"
   },
   "source": [
    "\n",
    "### **3.  Functions and scripts**\n",
    "\n",
    "Python scripts are files with \".py\" extension containing Python commands. This file is a script. Variables in a script file are global and will change the\n",
    "value of variables of the same name in the environment of the current Python session.  A script with name \"script1.py\" can be invoked by typing \"python3 script1.py\" in the shell window for Linux.\n",
    "\n",
    "Functions are also python-files or can be written inside a same file. The First line in a function file must be of this form:\n",
    "\n",
    "    def function(inarg_1, ..., inarg_n):\n",
    "\n",
    "\n",
    "      ...........\n",
    "\n",
    "      return outarg_1, ..., outarg_m\n",
    "\n",
    "Functions are executed using local workspaces: there is no risk of\n",
    "conflicts with the variables in the main workspace. At the end of a\n",
    "function execution only the output arguments will be visible in the\n",
    "main workspace."
   ]
  },
  {
   "cell_type": "code",
   "metadata": {
    "colab": {
     "base_uri": "https://localhost:8080/",
     "height": 386
    },
    "id": "oWbbMq4BPcHo",
    "outputId": "8706dbfb-d722-4455-ce93-9f7081ef2ecb"
   },
   "source": [
    "def myfunction(x):\n",
    "    a = 42\n",
    "    print('The value of a in myfunction is:', str(a))\n",
    "    return a+x\n",
    "\n",
    "from myotherfunction import myotherfunction\n",
    "\n",
    "a = 1674                   # Global variable a\n",
    "b = myfunction(2 * a)      # Call myfunction which has local variable a\n",
    "\n",
    "print('The value of a in the script is:', a)\n",
    "\n",
    "c, d = myotherfunction(a, b)     # Call myotherfunction with two return values\n",
    "\n",
    "print(c,d)"
   ],
   "outputs": [],
   "execution_count": null
  },
  {
   "cell_type": "markdown",
   "metadata": {
    "id": "XQ8XHMRjPfbm"
   },
   "source": [
    "### **4.  Reserved/special words:**\n",
    "\n",
    " for, if, while, def, return, else, elif, case\n",
    " continue, else, try, except, global, break, as\n",
    "\n",
    "### **5. Simple debugging**\n",
    "\n",
    " To start debugging within the program just insert import pdb, pdb.set_trace() commands.  \n",
    " Run your script normally, and execution will stop where we have introduced a breakpoint.\n",
    " So basically we are hard coding a breakpoint on a line below where we call set_trace()\n",
    "\n",
    "### **6.  Documentation**\n",
    "\n",
    " Python source has official documentation as well their packages.\n",
    "\n",
    "### **7.  Paths**\n",
    " To add a path to some directory whose functions/scripts you're calling:\n",
    "\n",
    " import sys\n",
    " sys.path.append(YOUR_PATH)"
   ]
  },
  {
   "cell_type": "markdown",
   "metadata": {
    "id": "V9byIgVNRHPR"
   },
   "source": [
    "### **8. Basic types in Python**\n",
    "\n",
    "#### 8.1.  The basic types in Python are scalars (usually double-precision floating point), vectors, and matrices:"
   ]
  },
  {
   "cell_type": "code",
   "metadata": {
    "id": "lq-CRxhrRUvR"
   },
   "source": [
    "A = np.array([[1,2],[3,4]]) # Creates a 2x2 matrix\n",
    "\n",
    "B = np.array([[1,2],[3,4]])  # The simplest way to create a matrix is\n",
    "                             # to list its entries in square brackets.\n",
    "                             # The \",\" symbol separates rows;\n",
    "                             # the \",\" separates columns.\n",
    "\n",
    "N = 5                        # A scalar\n",
    "v = np.array([[1,0,0]])      # A row vector\n",
    "v = np.array([[1],[0],[0]])  # A column vector\n",
    "v = v.T                      # Transpose a vector (row to column or\n",
    "                             #   column to row)\n",
    "\n",
    "v = np.linspace(1,3,5)       # A vector filled in a specified range:\n",
    "v = []                       # Empty vector\n",
    "\n",
    "# Creating special matrices: 1ST parameter is ROWS, 2ND parameter is COLS\n",
    "\n",
    "m = np.zeros((2, 3))         # Creates a 2x3 matrix of zeros\n",
    "v = np.ones((1, 3))          # Creates a 1x3 matrix (row vector) of ones\n",
    "m = np.eye(3)                # Identity matrix (3x3)\n",
    "v = np.random.rand(3, 1)     # Randomly filled 3x1 matrix (column\n",
    "                             # vector); see also randn\n",
    "\n",
    "                             # But watch out:\n",
    "m = np.zeros(3)              # Creates a (3,) vector (!) of zeros"
   ],
   "outputs": [],
   "execution_count": null
  },
  {
   "cell_type": "markdown",
   "metadata": {
    "id": "jCuFcJTVRat7"
   },
   "source": [
    "      \n",
    "#### 8.2.   Indexing vectors and matrices. Warning: Indices always start at 0"
   ]
  },
  {
   "cell_type": "code",
   "metadata": {
    "colab": {
     "base_uri": "https://localhost:8080/"
    },
    "id": "X7dj0FyzRwfo",
    "outputId": "4db8690c-5c4a-4d1b-a7f1-7fb8f6fdbb89"
   },
   "source": [
    "print(\"\")\n",
    "print(\"INDEXING VECTORS AND MATRICES\")\n",
    "print(\"\")\n",
    "\n",
    "v = np.array([1,2,3])\n",
    "\n",
    "print(v[2])                  # Access a vector element\n",
    "print(v[-1])                 # Access the last element\n",
    "print(len(v))                # Number of scalars in vector. Compare to:\n",
    "print(v.shape)               # Returns the size of a matrix\n",
    "\n",
    "M = np.array([[1,2,3,4],[5,7,8,8],[9,10,11,12],[13,14,15,16]])\n",
    "print(M[0,2])                # Access a matrix element\n",
    "                             # matrix(ROW #, COLUMN #)\n",
    "print(M[1,:])                # Access a whole matrix row (2nd row)\n",
    "print(M[:,0])                # Access a whole matrix column (1st column)\n",
    "\n",
    "print(M[0,0:3])              # Access elements 1 through 3 of the 1st row\n",
    "\n",
    "print(M[1:3, 1])             # Access elements 2 through 3 of the\n",
    "                             #   2nd column\n",
    "print(M[1:, 3])              # Keyword \":\" accesses the remainder of a\n",
    "                             #   column or row\n",
    "\n",
    "C = np.random.rand(4, 3, 2)*10            # A three-dimensional array\n",
    "D = np.random.rand(2, 1, 3)*10            # A three-dimensional array... but annoying\n",
    "\n",
    "M = np.array([[1,2,3],[4, 5, 6]])\n",
    "\n",
    "print(M.shape)               # Returns the size of a matrix\n",
    "print(M.shape[0])            # Number of rows\n",
    "print(M.shape[1])            # Number of columns\n",
    "\n",
    "M1 = np.ones(M.shape)       # Create a new matrix with the size of m\n",
    "\n",
    "print(M1)"
   ],
   "outputs": [],
   "execution_count": null
  },
  {
   "cell_type": "markdown",
   "metadata": {
    "id": "apPWNgo0R0fP"
   },
   "source": "#### 8.3. Cell arrays and structures"
  },
  {
   "cell_type": "code",
   "metadata": {
    "colab": {
     "base_uri": "https://localhost:8080/"
    },
    "id": "Un_nDHOYSGV9",
    "outputId": "3d4bfd55-423a-45c7-ba5b-381ec00f7a90"
   },
   "source": [
    "# Creates a cell array\n",
    "A = [np.array([[1, 4, 3],[0, 5, 8],[7, 2, 9]]), 'Anne Smith', 3]\n",
    "\n",
    "print(A[0])         # Return cell\n",
    "print(A[0][0,0])    # Return first element of first cell"
   ],
   "outputs": [],
   "execution_count": null
  },
  {
   "cell_type": "markdown",
   "metadata": {
    "id": "XdUoxIhMSIhC"
   },
   "source": [
    "### **9. Simple operations on vectors and matrices**\n",
    "\n",
    "#### 9.1. Element-wise operations: These operations are done \"element by element\".  If two vectors/matrices are to be added, subtracted, or element-wise multiplied or divided, they must have the same size."
   ]
  },
  {
   "cell_type": "code",
   "metadata": {
    "colab": {
     "base_uri": "https://localhost:8080/"
    },
    "id": "u9k_2jncSW9o",
    "outputId": "b51c925d-d754-4f21-aaf1-83fa383fbf54"
   },
   "source": [
    "print('')\n",
    "print('Simple operations on vectors and matrices')\n",
    "print('')\n",
    "\n",
    "a = np.array([1,2,3,4]) # A row vector\n",
    "\n",
    "print(2 * a)\n",
    "print(a + 5)\n",
    "print(5 + a)\n",
    "print(a / 4)\n",
    "print(4 / a)\n",
    "\n",
    "b = np.array([5,6,7,8]) # Another row vector\n",
    "\n",
    "print('Operations with vectors')\n",
    "\n",
    "print(a+b)          # Vector addition\n",
    "print(a+b.T)        # What does this return?\n",
    "print(a-b)          # Vector subtraction\n",
    "print(a**2)         # Element-wise squaring\n",
    "print(a*b)          # Element-wise multiplication\n",
    "print(a/b)          # Element-wise division\n",
    "\n",
    "print(np.log(a))     # Element-wise base 2 logarithm\n",
    "print(np.power(a,3)) # Element-wise cubing\n",
    "print(np.round([1.4, 2.6])) # Element-wise rounding to nearest integer\n",
    "\n",
    "# ... and plenty more intuitive examples like this.\n",
    "# Other element-wise arithmetic operations include e.g.\n",
    "#   floor, ceil, ...\n"
   ],
   "outputs": [],
   "execution_count": null
  },
  {
   "cell_type": "markdown",
   "metadata": {
    "id": "yizmFN_XSYBV"
   },
   "source": "#### 9.2. Vector Operations"
  },
  {
   "cell_type": "code",
   "metadata": {
    "colab": {
     "base_uri": "https://localhost:8080/"
    },
    "id": "lBAaVIFaSjov",
    "outputId": "94de6079-cd68-4629-ac37-ecd998448fc2"
   },
   "source": [
    "print('')\n",
    "print('VECTOR OPERATIONS')\n",
    "print('')\n",
    "\n",
    "a = np.array([1,4,6,3]) # A row vector\n",
    "\n",
    "print(np.sum(a))        # Sum of vector elements\n",
    "print(np.mean(a))       # Mean of vector elements\n",
    "print(np.std(a))        # Standard deviation\n",
    "print(np.max(a))        # Maximum\n",
    "\n",
    "print(np.sort(a))       # Sorting\n",
    "\n",
    "# If a matrix is given, then these functions will operate on each column\n",
    "#   of the matrix and return a row vector as result\n",
    "\n",
    "A = np.array([[1,2,3],[4,5,6]])  # A matrix\n",
    "\n",
    "print(np.mean(A))               # Mean of each column\n",
    "print(np.mean(A,0))             # Same thing (second argument specifies dimension along which operation is taken)\n",
    "print(np.mean(A,1))             # Mean of each *row*\n",
    "\n",
    "# Inner and outer products\n",
    "\n",
    "A = np.array([[1,2,3]])\n",
    "print(A@A.T)                 #   1x3 row vector times a 3x1 column vector\n",
    "                             #   results in a scalar.  Known as dot product\n",
    "                             #   or inner product.  Note the use of '@'\n",
    "\n",
    "print(A.T@A)                 # 3x1 column vector times a 1x3 row vector\n",
    "                             # results in a 3x3 matrix.  Known as outer\n",
    "                             # product.  Note the use of '@'"
   ],
   "outputs": [],
   "execution_count": null
  },
  {
   "cell_type": "markdown",
   "metadata": {
    "id": "52CnE_I4SlzV"
   },
   "source": "#### 9.3. Matrix Operations."
  },
  {
   "cell_type": "code",
   "metadata": {
    "colab": {
     "base_uri": "https://localhost:8080/"
    },
    "id": "TfZyVvu8Sw99",
    "outputId": "c9f17b19-0909-493e-d185-20d5668e1b60"
   },
   "source": [
    "print('')\n",
    "print('Matrix Operations')\n",
    "print('')\n",
    "\n",
    "A = np.random.rand(3,2)      # A 3x2 matrix of random numbers\n",
    "B = np.random.rand(2,4)      # A 2x4 matrix of random numbers\n",
    "C = A@B                      # Matrix product results in a 3x4 matrix\n",
    "print(C)\n",
    "\n",
    "\n",
    "A = np.array([[1,2],[3,4],[5,6]])   # A 3x2 matrix\n",
    "B = np.array([[5,6,7]])             # A 1x3 row vector\n",
    "print(B@A)                          # Vector-matrix product results in\n",
    "                                    # a 1x2 row vector\n",
    "\n",
    "C = np.array([[8],[9]])\n",
    "print(A@C)                          # Matrix-vector product results in a 3x1 column vector\n",
    "\n",
    "\n",
    "A = np.array([[1,3,2],[6,5,4],[7,8,9]]) # a 3x3 matrix\n",
    "\n",
    "print(np.linalg.inv(A))                    # Matrix inverse of a\n",
    "print(np.linalg.eig(A))                    # Vector of eigenvalues of a\n",
    "\n",
    "\n",
    "# Commutativity\n",
    "B = np.random.rand(3, 3) * 7\n",
    "\n",
    "print(A@B)                          # Matrix product\n",
    "print(B@A)                          # Does this result equal the previous line?\n",
    "                                    # How to check for equality?\n",
    "\n",
    "print(A@B == B@A)                   # Element-wise result\n",
    "print(np.all(A@B == B@A))           # Global result\n",
    "\n",
    "# Distributivity\n",
    "C = np.random.rand(2, 3)\n",
    "\n",
    "r1 = C @ (A + B)\n",
    "r2 = C @ A + C @ B                  # Are r1 and r2 equal?\n",
    "\n",
    "print(r2)\n",
    "\n",
    "\n",
    "# Associativity\n",
    "r1 = (C @ A) @ B\n",
    "r2 = C @ (A @ B)\n",
    "\n",
    "print(r1)\n",
    "print(r2)\n",
    "\n",
    "# See more: https://en.wikipedia.org/wiki/Matrix_multiplication"
   ],
   "outputs": [],
   "execution_count": null
  },
  {
   "cell_type": "markdown",
   "metadata": {
    "id": "aK9ytMaCS0vs"
   },
   "source": "#### 9.4. Reshaping and assembling matrices:"
  },
  {
   "cell_type": "code",
   "metadata": {
    "colab": {
     "base_uri": "https://localhost:8080/"
    },
    "id": "dwP3iksoTJ4N",
    "outputId": "547a7cb0-c028-4c1c-a8ad-a1a782e0d2c5"
   },
   "source": [
    "print('')\n",
    "print('Reshaping and assembling matrices')\n",
    "print('')\n",
    "\n",
    "A = np.array([[1,2],[3,4],[5,6]])   #   A 3x2 matrix\n",
    "B = A.reshape((6,1))                #   Make 6x1 column vector by stacking\n",
    "                                    #   up columns of a: in column-major order\n",
    "print(A)\n",
    "print(B)\n",
    "\n",
    "A = np.array([1,2])\n",
    "B = np.array([3,4])                 #  Two row vectors\n",
    "\n",
    "C = np.hstack((A,B))                 # Horizontal concatenation\n",
    "\n",
    "print(C)\n",
    "\n",
    "A = np.array([[1],[2],[3]])\n",
    "C = np.vstack((A,np.array([[4]])))       # Vertical concatenation\n",
    "print(C)"
   ],
   "outputs": [],
   "execution_count": null
  },
  {
   "cell_type": "markdown",
   "metadata": {
    "id": "26DsPs_JTNH-"
   },
   "source": [
    "### **10. Control statements & vectorization**\n",
    "\n",
    "Syntax of control flow statements:\n",
    "\n",
    "    for i in range_value:\n",
    "      STATEMENT\n",
    "      ...\n",
    "      STATEMENT\n",
    "    while EXPRESSION:\n",
    "        STATEMENTS\n",
    "    if EXPRESSION:\n",
    "        STATEMENTS\n",
    "    elif EXPRESSION:\n",
    "        STATEMENTS\n",
    "    else:\n",
    "        STATEMENTS\n",
    "    end\n",
    "\n",
    "    The operators are <, >, <=, >=, ==, ~=  (almost like in C++)\n",
    "\n",
    "Warning, IMPORTANT:\n",
    "\n",
    "   Loops run very slowly in Python, because of interpretation overhead.\n",
    "   you should    nevertheless try to avoid them by \"vectorizing\"  the computation,    i.e. by rewriting the code in form of matrix operations.  This is illustrated in some examples below."
   ]
  },
  {
   "cell_type": "code",
   "metadata": {
    "colab": {
     "base_uri": "https://localhost:8080/"
    },
    "id": "fwJ0DRmWUDbY",
    "outputId": "b5d7f882-4cbd-43fb-912e-1121a10a8dc9"
   },
   "source": [
    "# Examples:\n",
    "for i in range(10):\n",
    "    print(i)\n",
    "\n",
    "for i in np.linspace(1,7,7):\n",
    "    print(i)\n",
    "\n",
    "for i in [5, 13, -1]:\n",
    "    if i > 10:\n",
    "        print('Larger than 10')\n",
    "    elif i < 0:\n",
    "        print('Negative value')\n",
    "    else:\n",
    "        print('Something else')\n",
    "\n",
    "m = 50\n",
    "n = 10\n",
    "A = np.ones((m,n))\n",
    "v = 2 * np.random.rand(1,n)\n",
    "\n",
    "# Implementation using loops:\n",
    "for i in range(m):\n",
    "    A[i,:] = A[i,:] - v\n",
    "\n",
    "#print(A)\n",
    "\n",
    "# We can compute the same thing using only matrix operations. How?\n",
    "# This version of the code runs, much faster !!!\n",
    "\n",
    "A2 = np.ones((m,n)) - v\n",
    "print(np.all(A2==A))\n",
    "\n",
    "# We can vectorize the computation even when loops contain conditional statements.\n",
    "\n",
    "# Example: given an mxn matrix A, create a matrix B of the same size containing all zeros, and then copy into B the elements of A that are greater than zero.\n",
    "\n",
    "# Implementation using loops:\n",
    "B = np.zeros((m,n))\n",
    "\n",
    "for i in range(m):\n",
    "    for j in range(n):\n",
    "        if A[i,j] > 0 :\n",
    "            B[i,j] = A[i,j]\n",
    "\n",
    "# All this can be computed w/o any loop! How?\n",
    "B2 = np.zeros((m,n))\n",
    "ind = A>0   # Find indices of positive elements of A\n",
    "B2[ind] = A[ind] # Copies into B only the elements of A that are > 0\n",
    "print(np.all(B2==B))\n",
    "\n",
    "#  How to do inner product in a slow way?\n",
    "row_vector    = np.array([[1,2,3,4]])\n",
    "column_vector = np.array([[4],[5],[6],[7]])\n",
    "\n",
    "# inner product\n",
    "scalar_multiplication = row_vector @ column_vector\n",
    "print(scalar_multiplication)\n",
    "\n",
    "# ugly inner product\n",
    "manual_scalar_mult = 0\n",
    "\n",
    "for i in range(row_vector.shape[1]):\n",
    "    manual_scalar_mult = manual_scalar_mult + (row_vector[0,i] * column_vector[i,0])\n",
    "\n",
    "print(manual_scalar_mult)"
   ],
   "outputs": [],
   "execution_count": null
  },
  {
   "cell_type": "markdown",
   "metadata": {
    "id": "t3lYyzM_UIXG"
   },
   "source": "### **11. Plotting (useful later)**"
  },
  {
   "cell_type": "code",
   "metadata": {},
   "source": [
    "import matplotlib.pyplot as plt\n",
    "x = np.array([0, 1, 2, 3, 4]) # Basic plotting\n",
    "\n",
    "plt.plot(x) # Plot x versus its index values\n",
    "plt.show()  # show the diagram"
   ],
   "outputs": [],
   "execution_count": null
  },
  {
   "metadata": {},
   "cell_type": "code",
   "source": [
    "plt.plot(x, 2*x) # Plot 2*x versus x\n",
    "plt.show()"
   ],
   "outputs": [],
   "execution_count": null
  },
  {
   "metadata": {},
   "cell_type": "code",
   "source": [
    "x = np.pi * np.linspace(-24,24,48)/24;\n",
    "plt.plot(x, np.sin(x))\n",
    "plt.xlabel('radians')\n",
    "plt.ylabel('sin value')\n",
    "plt.title('dummy')\n",
    "plt.show()"
   ],
   "outputs": [],
   "execution_count": null
  },
  {
   "metadata": {},
   "cell_type": "code",
   "source": [
    "figs, axs = plt.subplots(1, 2) # Multiple functions in separate graphs\n",
    "axs[0].plot(x,np.sin(x))\n",
    "axs[1].plot(x,2*np.cos(x))\n",
    "plt.show()"
   ],
   "outputs": [],
   "execution_count": null
  },
  {
   "metadata": {
    "colab": {
     "base_uri": "https://localhost:8080/",
     "height": 1000
    },
    "id": "-dJxzQXFUQSk",
    "outputId": "dcd0345b-e141-43b6-d70a-3f97dcaabad7"
   },
   "cell_type": "code",
   "source": [
    "plt.plot(x, np.sin(x)) # Multiple functions in single graph\n",
    "plt.plot(x, 2*np.cos(x))\n",
    "plt.plot(x, 3*np.cos(x))\n",
    "plt.legend([\"sin\", \"2cos\", \"3cos\"], loc =\"lower right\")\n",
    "plt.show()"
   ],
   "outputs": [],
   "execution_count": null
  },
  {
   "cell_type": "markdown",
   "metadata": {
    "id": "I83GuG89UTvO"
   },
   "source": "### **12. Working with images**\n"
  },
  {
   "cell_type": "code",
   "metadata": {},
   "source": [
    "import cv2\n",
    "I = cv2.imread('pittsburgh.png') # Read a PNG image\n",
    "I2 = cv2.cvtColor(I, cv2.COLOR_BGR2RGB) # For OpenCV and Jupyter notebook\n",
    "plt.imshow(I2) # Display the image\n",
    "\n",
    "# For Python command line\n",
    "# cv2.imshow('image',I)            # Display the image\n",
    "# cv2.waitKey(0)"
   ],
   "outputs": [],
   "execution_count": null
  },
  {
   "metadata": {},
   "cell_type": "code",
   "source": [
    "I_resize = cv2.resize(I, (I.shape[0]//4,I.shape[1]//4), interpolation = cv2.INTER_AREA) # Resize to 50% using bilinear interpolation\n",
    "I_resize2 = cv2.cvtColor(I_resize, cv2.COLOR_BGR2RGB) # For OpenCV and Jupyter notebook\n",
    "plt.imshow(I_resize2) # Display the image\n",
    "\n",
    "# For Python command line\n",
    "# cv2.imshow('resize image', I_resize)\n",
    "# cv2.waitKey(0)"
   ],
   "outputs": [],
   "execution_count": null
  },
  {
   "metadata": {},
   "cell_type": "code",
   "source": [
    "I_crop =  cv2.rotate(I, cv2.ROTATE_90_COUNTERCLOCKWISE) # Rotate 45 degrees and crop to  original size\n",
    "I_crop2 = cv2.cvtColor(I_crop, cv2.COLOR_BGR2RGB) # For OpenCV and Jupyter notebook\n",
    "plt.imshow(I_crop2) # Display the image\n",
    "\n",
    "# # For Python command line\n",
    "# cv2.imshow('crop image', I_crop)\n",
    "# cv2.waitKey(0)"
   ],
   "outputs": [],
   "execution_count": null
  },
  {
   "metadata": {},
   "cell_type": "code",
   "source": [
    "I_gray = cv2.cvtColor(I, cv2.COLOR_BGR2GRAY) # Grayscale\n",
    "I_gray2 = cv2.cvtColor(I_gray, cv2.COLOR_BGR2RGB) # For OpenCV and Jupyter notebook\n",
    "plt.imshow(I_gray2) # Display the image\n",
    "\n",
    "# # For Python command line\n",
    "# cv2.imshow('gray image', I_gray)\n",
    "# cv2.waitKey(0)"
   ],
   "outputs": [],
   "execution_count": null
  },
  {
   "metadata": {},
   "cell_type": "code",
   "source": [
    "I = I.astype(np.float32) # to float32\n",
    "\n",
    "I = I - np.mean(I, axis = (0,1))\n",
    "I = np.where(I<0, 0, I)\n",
    "I = np.where(I>255, 255, I)\n",
    "I = I.astype(np.uint8)\n",
    "\n",
    "I2 = cv2.cvtColor(I, cv2.COLOR_BGR2RGB) # For OpenCV and Jupyter notebook\n",
    "plt.imshow(I2) # Display the image\n",
    "# For Python command line\n",
    "# cv2.imshow('mean image', I)\n",
    "# cv2.waitKey(0)"
   ],
   "outputs": [],
   "execution_count": null
  },
  {
   "metadata": {},
   "cell_type": "markdown",
   "source": [
    "## Acknowledgements\n",
    "Adapted from Introduction to [Matlab tutorial](https://cs.brown.edu/courses/cs143/2011/docs/matlab-tutorial/) from Stefan Roth <roth (AT) cs DOT brown DOT edu>, 09/08/2003 and Patrick Doran <pdoran (AT) cs DOT brown DOT edu>, 01/30/2010 with additions by Adriana Kovashka <kovashka (AT) cs DOT pitt DOT edu>, 07/29/2016.\n",
    "\n",
    "Converted to Python by Nils Murrugarra <nem177 (AT) pitt DOT edu>, 08/2024."
   ]
  }
 ],
 "metadata": {
  "colab": {
   "provenance": []
  },
  "kernelspec": {
   "display_name": "Python 3",
   "language": "python",
   "name": "python3"
  },
  "language_info": {
   "codemirror_mode": {
    "name": "ipython",
    "version": 3
   },
   "file_extension": ".py",
   "mimetype": "text/x-python",
   "name": "python",
   "nbconvert_exporter": "python",
   "pygments_lexer": "ipython3",
   "version": "3.7.6"
  }
 },
 "nbformat": 4,
 "nbformat_minor": 1
}
